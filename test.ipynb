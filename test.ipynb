{
 "cells": [
  {
   "cell_type": "code",
   "execution_count": 86,
   "metadata": {},
   "outputs": [],
   "source": [
    "import clingo\n",
    "\n",
    "\n",
    "class ClingoSolver:\n",
    "    @staticmethod\n",
    "    def _check_satisfied(control: clingo.Control) -> bool:\n",
    "        with control.solve(yield_=True) as handle:\n",
    "            if handle.get().satisfiable:\n",
    "                return True\n",
    "            return False\n",
    "\n",
    "    @staticmethod\n",
    "    def _get_answer(control: clingo.Control) -> int:\n",
    "        with control.solve(yield_=True) as handle:\n",
    "            for model in handle:\n",
    "                for atom in model.symbols(atoms=True):\n",
    "                    if atom.name == \"answer\":\n",
    "                        answer = str(atom)\n",
    "                        return answer.split(\"(\")[1].split(\")\")[0]\n",
    "\n",
    "    @staticmethod\n",
    "    def solve(asp_program: str, check_satisfied: bool = True) -> bool:\n",
    "        control = clingo.Control()\n",
    "        control.add(\"base\", [], asp_program)\n",
    "        control.ground([(\"base\", [])])\n",
    "        control.configuration.solve.models = 1\n",
    "\n",
    "        if check_satisfied:\n",
    "            return ClingoSolver._check_satisfied(control)\n",
    "        return ClingoSolver._get_answer(control)\n"
   ]
  },
  {
   "cell_type": "code",
   "execution_count": 87,
   "metadata": {},
   "outputs": [
    {
     "data": {
      "text/plain": [
       "'9'"
      ]
     },
     "execution_count": 87,
     "metadata": {},
     "output_type": "execute_result"
    }
   ],
   "source": [
    "ClingoSolver().solve(\n",
    "    \"\"\"\n",
    "\n",
    "    x(1..9).\n",
    "    y(1..9).\n",
    "    n(1..9).\n",
    "\n",
    "    {sudoku(X,Y,N): n(N)}=1 :- x(X) ,y(Y).\n",
    "\n",
    "    subgrid(X,Y,A,B) :- x(X), x(A), y(Y), y(B),(X-1)/3 == (A-1)/3, (Y-1)/3 == (B-1)/3.\n",
    "\n",
    "    :- sudoku(X,Y,N), sudoku(A,Y,N), X!=A.\n",
    "    :- sudoku(X,Y,N), sudoku(X,B,N), Y!=B.\n",
    "    :- sudoku(X,Y,V), sudoku(A,B,V), subgrid(X,Y,A,B), X != A, Y != B.\n",
    "\n",
    "    sudoku(1,1,3). sudoku(1,2,2). sudoku(1,3,1). sudoku(1,4,5). sudoku(1,5,8). sudoku(1,6,9). sudoku(1,7,6). sudoku(1,8,7). sudoku(1,9,4). sudoku(2,1,7). sudoku(2,2,5). sudoku(2,4,6). sudoku(2,5,2). sudoku(2,6,4). sudoku(2,7,8). sudoku(2,8,1). sudoku(2,9,3). sudoku(3,1,6). sudoku(3,2,8). sudoku(3,3,4). sudoku(3,4,7). sudoku(3,5,3). sudoku(3,6,1). sudoku(3,7,5). sudoku(3,8,9). sudoku(3,9,2). sudoku(4,1,4). sudoku(4,2,3). sudoku(4,3,6). sudoku(4,4,2). sudoku(4,5,1). sudoku(4,6,5). sudoku(4,7,7). sudoku(4,8,8). sudoku(4,9,9). sudoku(5,1,9). sudoku(5,2,1). sudoku(5,3,8). sudoku(5,4,3). sudoku(5,5,6). sudoku(5,6,7). sudoku(5,7,2). sudoku(5,8,4). sudoku(5,9,5). sudoku(6,1,2). sudoku(6,2,7). sudoku(6,3,5). sudoku(6,4,4). sudoku(6,5,9). sudoku(6,6,8). sudoku(6,7,3). sudoku(6,8,6). sudoku(6,9,1). sudoku(7,1,5). sudoku(7,2,6). sudoku(7,3,7). sudoku(7,4,9). sudoku(7,5,4). sudoku(7,6,2). sudoku(7,7,1). sudoku(7,8,3). sudoku(7,9,8). sudoku(8,1,1). sudoku(8,2,4). sudoku(8,3,3). sudoku(8,4,8). sudoku(8,5,5). sudoku(8,6,6). sudoku(8,7,9). sudoku(8,8,2). sudoku(8,9,7). sudoku(9,1,8). sudoku(9,2,9). sudoku(9,3,2). sudoku(9,4,1). sudoku(9,5,7). sudoku(9,6,3). sudoku(9,7,4). sudoku(9,8,5). sudoku(9,9,6).\n",
    "    1 { sudoku(2,3,N) : n(N) } 1.\n",
    "    answer(N) :- sudoku(2,3,N).\n",
    "    #show answer/1.\n",
    "\n",
    "\n",
    "\n",
    "    \"\"\", check_satisfied=False\n",
    ")"
   ]
  },
  {
   "cell_type": "code",
   "execution_count": 88,
   "metadata": {},
   "outputs": [
    {
     "data": {
      "text/plain": [
       "'green'"
      ]
     },
     "execution_count": 88,
     "metadata": {},
     "output_type": "execute_result"
    }
   ],
   "source": [
    "ClingoSolver().solve(\n",
    "    \"\"\"\n",
    "\n",
    "\n",
    "% allocate one colour to each node\n",
    "1{colouring(Node, Colour): colour(Colour)}1 :- node(Node).\n",
    "\n",
    "% filter out all colourings where two nodes connected by an edge have the same colour\n",
    ":- edge(Node1, Node2), colouring(Node1, Colour), colouring(Node2, Colour).\n",
    "\n",
    "% defining colored node facts\n",
    "\n",
    "% define the answer as the colour of the grey node\n",
    "1 { colouring(0,COLOUR) : colour(COLOUR) } 1.\n",
    "answer(COLOUR) :- colouring(0,COLOUR).\n",
    "\n",
    "% outputing the answer\n",
    "#show answer/1.\n",
    "\n",
    "colouring(1,blue).\n",
    "\n",
    "% define the answer as the colour of the grey node\n",
    "1 { colouring(0,COLOUR) : colour(COLOUR) } 1.\n",
    "answer(COLOUR) :- colouring(0,COLOUR).\n",
    "\n",
    "% outputing the answer\n",
    "#show answer/1.\n",
    "\n",
    "colouring(2,green).\n",
    "\n",
    "% define the answer as the colour of the grey node\n",
    "1 { colouring(0,COLOUR) : colour(COLOUR) } 1.\n",
    "answer(COLOUR) :- colouring(0,COLOUR).\n",
    "\n",
    "% outputing the answer\n",
    "#show answer/1.\n",
    "\n",
    "colouring(3,red).\n",
    "\n",
    "% define the answer as the colour of the grey node\n",
    "1 { colouring(0,COLOUR) : colour(COLOUR) } 1.\n",
    "answer(COLOUR) :- colouring(0,COLOUR).\n",
    "\n",
    "% outputing the answer\n",
    "#show answer/1.\n",
    "\n",
    "% defining available colours\n",
    "colour(blue).\n",
    "colour(red).\n",
    "colour(green).\n",
    "\n",
    "% defining nodes and edges\n",
    "node(0).\n",
    "node(1).\n",
    "node(2).\n",
    "node(3).\n",
    "edge(0, 3).\n",
    "edge(1, 2).\n",
    "edge(1, 3).\n",
    "edge(2, 3).\n",
    "\n",
    "\n",
    "\n",
    "\n",
    "    \"\"\", check_satisfied=False\n",
    ")"
   ]
  }
 ],
 "metadata": {
  "kernelspec": {
   "display_name": ".venv",
   "language": "python",
   "name": "python3"
  },
  "language_info": {
   "codemirror_mode": {
    "name": "ipython",
    "version": 3
   },
   "file_extension": ".py",
   "mimetype": "text/x-python",
   "name": "python",
   "nbconvert_exporter": "python",
   "pygments_lexer": "ipython3",
   "version": "3.11.6"
  }
 },
 "nbformat": 4,
 "nbformat_minor": 2
}
